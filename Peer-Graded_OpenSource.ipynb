{
 "cells": [
  {
   "cell_type": "markdown",
   "metadata": {},
   "source": [
    "# My Jupyter Notebook on IBM Data Science Experience"
   ]
  },
  {
   "cell_type": "markdown",
   "metadata": {},
   "source": [
    "__Alexander Hilton:__\n",
    "__Content Developer, Writer, CSM, CSPO__"
   ]
  },
  {
   "cell_type": "markdown",
   "metadata": {},
   "source": [
    "*I am going to Southern New Hampshire University for data analytics and wanted to suppliment my education with this course*"
   ]
  },
  {
   "cell_type": "markdown",
   "metadata": {},
   "source": [
    "### Add two variables until one variable is 9, increasing by one and the other variable is static"
   ]
  },
  {
   "cell_type": "code",
   "execution_count": 13,
   "metadata": {},
   "outputs": [
    {
     "name": "stdout",
     "output_type": "stream",
     "text": [
      "6\n",
      "8\n",
      "11\n",
      "15\n",
      "20\n",
      "26\n",
      "33\n",
      "41\n",
      "50\n"
     ]
    }
   ],
   "source": [
    "A = 1\n",
    "B = 5\n",
    "while A < 10:\n",
    "    B += A\n",
    "    A += 1\n",
    "    print(B)"
   ]
  },
  {
   "cell_type": "markdown",
   "metadata": {},
   "source": [
    "1. number one\n",
    "    * ~~bullet one~~\n",
    "2. number two\n",
    "    * ~~bullet one~~\n",
    "3. number three\n",
    "    * ~~bullet one~~\n",
    "\n",
    "\n"
   ]
  },
  {
   "cell_type": "code",
   "execution_count": null,
   "metadata": {},
   "outputs": [],
   "source": []
  }
 ],
 "metadata": {
  "kernelspec": {
   "display_name": "Python 3",
   "language": "python",
   "name": "python3"
  },
  "language_info": {
   "codemirror_mode": {
    "name": "ipython",
    "version": 3
   },
   "file_extension": ".py",
   "mimetype": "text/x-python",
   "name": "python",
   "nbconvert_exporter": "python",
   "pygments_lexer": "ipython3",
   "version": "3.6.4"
  }
 },
 "nbformat": 4,
 "nbformat_minor": 2
}
